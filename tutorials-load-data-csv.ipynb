{
 "cells": [
  {
   "cell_type": "code",
   "execution_count": 1,
   "metadata": {},
   "outputs": [],
   "source": [
    "from __future__ import absolute_import, division, print_function, unicode_literals\n",
    "import functools\n",
    "\n",
    "import numpy as np\n",
    "import tensorflow as tf"
   ]
  },
  {
   "cell_type": "code",
   "execution_count": 2,
   "metadata": {},
   "outputs": [
    {
     "name": "stdout",
     "output_type": "stream",
     "text": "Downloading data from https://storage.googleapis.com/tf-datasets/titanic/train.csv\n32768/30874 [===============================] - 0s 1us/step\nDownloading data from https://storage.googleapis.com/tf-datasets/titanic/eval.csv\n16384/13049 [=====================================] - 0s 0us/step\n"
    }
   ],
   "source": [
    "TRAIN_DATA_URL = \"https://storage.googleapis.com/tf-datasets/titanic/train.csv\"\n",
    "TEST_DATA_URL = \"https://storage.googleapis.com/tf-datasets/titanic/eval.csv\"\n",
    "\n",
    "train_file_path = tf.keras.utils.get_file(\"train.csv\", TRAIN_DATA_URL)\n",
    "test_file_path = tf.keras.utils.get_file(\"eval.csv\", TEST_DATA_URL)"
   ]
  },
  {
   "cell_type": "code",
   "execution_count": 3,
   "metadata": {},
   "outputs": [],
   "source": [
    "# Make numpy values easier to read.\n",
    "np.set_printoptions(precision=3, suppress=True)"
   ]
  },
  {
   "cell_type": "code",
   "execution_count": 4,
   "metadata": {},
   "outputs": [
    {
     "name": "stdout",
     "output_type": "stream",
     "text": "survived,sex,age,n_siblings_spouses,parch,fare,class,deck,embark_town,alone\n0,male,22.0,1,0,7.25,Third,unknown,Southampton,n\n1,female,38.0,1,0,71.2833,First,C,Cherbourg,n\n1,female,26.0,0,0,7.925,Third,unknown,Southampton,y\n1,female,35.0,1,0,53.1,First,C,Southampton,n\n0,male,28.0,0,0,8.4583,Third,unknown,Queenstown,y\n0,male,2.0,3,1,21.075,Third,unknown,Southampton,n\n1,female,27.0,0,2,11.1333,Third,unknown,Southampton,n\n1,female,14.0,1,0,30.0708,Second,unknown,Cherbourg,n\n1,female,4.0,1,1,16.7,Third,G,Southampton,n\n"
    }
   ],
   "source": [
    "!head {train_file_path}"
   ]
  },
  {
   "cell_type": "code",
   "execution_count": 5,
   "metadata": {},
   "outputs": [],
   "source": [
    "LABEL_COLUMN = 'survived'\n",
    "LABELS = [0, 1]"
   ]
  },
  {
   "cell_type": "code",
   "execution_count": 6,
   "metadata": {},
   "outputs": [],
   "source": [
    "def get_dataset(file_path, **kwargs):\n",
    "  dataset = tf.data.experimental.make_csv_dataset(\n",
    "      file_path,\n",
    "      batch_size=5, # Artificially small to make examples easier to show.\n",
    "      label_name=LABEL_COLUMN,\n",
    "      na_value=\"?\",\n",
    "      num_epochs=1,\n",
    "      ignore_errors=True, \n",
    "      **kwargs)\n",
    "  return dataset\n",
    "\n",
    "raw_train_data = get_dataset(train_file_path)\n",
    "raw_test_data = get_dataset(test_file_path)"
   ]
  },
  {
   "cell_type": "code",
   "execution_count": 7,
   "metadata": {},
   "outputs": [],
   "source": [
    "def show_batch(dataset):\n",
    "  for batch, label in dataset.take(1):\n",
    "    for key, value in batch.items():\n",
    "      print(\"{:20s}: {}\".format(key,value.numpy()))"
   ]
  },
  {
   "cell_type": "code",
   "execution_count": 8,
   "metadata": {},
   "outputs": [
    {
     "name": "stdout",
     "output_type": "stream",
     "text": "sex                 : [b'female' b'female' b'male' b'male' b'male']\nage                 : [41. 24. 28. 45. 51.]\nn_siblings_spouses  : [0 1 0 0 0]\nparch               : [1 2 0 0 0]\nfare                : [19.5  65.   52.   35.5  26.55]\nclass               : [b'Second' b'Second' b'First' b'First' b'First']\ndeck                : [b'unknown' b'unknown' b'A' b'unknown' b'E']\nembark_town         : [b'Southampton' b'Southampton' b'Southampton' b'Southampton'\n b'Southampton']\nalone               : [b'n' b'n' b'y' b'y' b'y']\n"
    }
   ],
   "source": [
    "show_batch(raw_train_data)"
   ]
  },
  {
   "cell_type": "code",
   "execution_count": 9,
   "metadata": {},
   "outputs": [
    {
     "name": "stdout",
     "output_type": "stream",
     "text": "sex                 : [b'female' b'male' b'male' b'male' b'male']\nage                 : [15. 28. 28. 28. 51.]\nn_siblings_spouses  : [0 0 0 0 0]\nparch               : [1 0 0 0 0]\nfare                : [211.337   8.663  29.7     8.05    7.054]\nclass               : [b'First' b'Third' b'First' b'Third' b'Third']\ndeck                : [b'B' b'unknown' b'C' b'unknown' b'unknown']\nembark_town         : [b'Southampton' b'Southampton' b'Cherbourg' b'Southampton' b'Southampton']\nalone               : [b'n' b'y' b'y' b'y' b'y']\n"
    }
   ],
   "source": [
    "CSV_COLUMNS = ['survived', 'sex', 'age', 'n_siblings_spouses', 'parch', 'fare', 'class', 'deck', 'embark_town', 'alone']\n",
    "\n",
    "temp_dataset = get_dataset(train_file_path, column_names=CSV_COLUMNS)\n",
    "\n",
    "show_batch(temp_dataset)"
   ]
  },
  {
   "cell_type": "code",
   "execution_count": 10,
   "metadata": {},
   "outputs": [
    {
     "name": "stdout",
     "output_type": "stream",
     "text": "age                 : [14. 38. 31. 28. 28.]\nn_siblings_spouses  : [5 0 1 1 0]\nclass               : [b'Third' b'First' b'First' b'First' b'Third']\ndeck                : [b'unknown' b'B' b'B' b'unknown' b'unknown']\nalone               : [b'n' b'y' b'n' b'n' b'y']\n"
    }
   ],
   "source": [
    "SELECT_COLUMNS = ['survived', 'age', 'n_siblings_spouses', 'class', 'deck', 'alone']\n",
    "\n",
    "temp_dataset = get_dataset(train_file_path, select_columns=SELECT_COLUMNS)\n",
    "\n",
    "show_batch(temp_dataset)"
   ]
  },
  {
   "cell_type": "code",
   "execution_count": 11,
   "metadata": {},
   "outputs": [
    {
     "name": "stdout",
     "output_type": "stream",
     "text": "age                 : [28. 18. 39. 26. 28.]\nn_siblings_spouses  : [0. 1. 1. 2. 0.]\nparch               : [0. 0. 1. 0. 0.]\nfare                : [  7.55  108.9    83.158   8.663  12.35 ]\n"
    }
   ],
   "source": [
    "SELECT_COLUMNS = ['survived', 'age', 'n_siblings_spouses', 'parch', 'fare']\n",
    "DEFAULTS = [0, 0.0, 0.0, 0.0, 0.0]\n",
    "temp_dataset = get_dataset(train_file_path, \n",
    "                           select_columns=SELECT_COLUMNS,\n",
    "                           column_defaults = DEFAULTS)\n",
    "\n",
    "show_batch(temp_dataset)"
   ]
  },
  {
   "cell_type": "code",
   "execution_count": 12,
   "metadata": {},
   "outputs": [],
   "source": [
    "example_batch, labels_batch = next(iter(temp_dataset)) "
   ]
  },
  {
   "cell_type": "code",
   "execution_count": 13,
   "metadata": {},
   "outputs": [],
   "source": [
    "def pack(features, label):\n",
    "  return tf.stack(list(features.values()), axis=-1), label"
   ]
  },
  {
   "cell_type": "code",
   "execution_count": 14,
   "metadata": {},
   "outputs": [
    {
     "name": "stdout",
     "output_type": "stream",
     "text": "[[34.     0.     0.    13.   ]\n [28.     0.     0.     8.05 ]\n [28.     0.     0.     7.25 ]\n [28.     0.     0.     7.896]\n [33.     0.     0.     9.5  ]]\n\n[1 0 0 0 0]\n"
    }
   ],
   "source": [
    "packed_dataset = temp_dataset.map(pack)\n",
    "\n",
    "for features, labels in packed_dataset.take(1):\n",
    "  print(features.numpy())\n",
    "  print()\n",
    "  print(labels.numpy())"
   ]
  },
  {
   "cell_type": "code",
   "execution_count": 15,
   "metadata": {},
   "outputs": [
    {
     "name": "stdout",
     "output_type": "stream",
     "text": "sex                 : [b'female' b'male' b'male' b'male' b'female']\nage                 : [60. 40. 28. 22. 28.]\nn_siblings_spouses  : [1 0 0 0 0]\nparch               : [0 0 0 0 0]\nfare                : [75.25 31.    0.    9.35  8.05]\nclass               : [b'First' b'First' b'Second' b'Third' b'Third']\ndeck                : [b'D' b'A' b'unknown' b'unknown' b'unknown']\nembark_town         : [b'Cherbourg' b'Cherbourg' b'Southampton' b'Southampton' b'Southampton']\nalone               : [b'n' b'y' b'y' b'y' b'y']\n"
    }
   ],
   "source": [
    "show_batch(raw_train_data)"
   ]
  },
  {
   "cell_type": "code",
   "execution_count": 16,
   "metadata": {},
   "outputs": [],
   "source": [
    "example_batch, labels_batch = next(iter(temp_dataset)) "
   ]
  },
  {
   "cell_type": "code",
   "execution_count": 17,
   "metadata": {},
   "outputs": [],
   "source": [
    "class PackNumericFeatures(object):\n",
    "  def __init__(self, names):\n",
    "    self.names = names\n",
    "\n",
    "  def __call__(self, features, labels):\n",
    "    numeric_features = [features.pop(name) for name in self.names]\n",
    "    numeric_features = [tf.cast(feat, tf.float32) for feat in numeric_features]\n",
    "    numeric_features = tf.stack(numeric_features, axis=-1)\n",
    "    features['numeric'] = numeric_features\n",
    "\n",
    "    return features, labels"
   ]
  },
  {
   "cell_type": "code",
   "execution_count": 18,
   "metadata": {},
   "outputs": [],
   "source": [
    "NUMERIC_FEATURES = ['age','n_siblings_spouses','parch', 'fare']\n",
    "\n",
    "packed_train_data = raw_train_data.map(\n",
    "    PackNumericFeatures(NUMERIC_FEATURES))\n",
    "\n",
    "packed_test_data = raw_test_data.map(\n",
    "    PackNumericFeatures(NUMERIC_FEATURES))"
   ]
  },
  {
   "cell_type": "code",
   "execution_count": 19,
   "metadata": {},
   "outputs": [
    {
     "name": "stdout",
     "output_type": "stream",
     "text": "sex                 : [b'female' b'male' b'female' b'male' b'male']\nclass               : [b'Third' b'Second' b'Second' b'First' b'Third']\ndeck                : [b'unknown' b'unknown' b'unknown' b'B' b'unknown']\nembark_town         : [b'Southampton' b'Southampton' b'Southampton' b'Southampton' b'Queenstown']\nalone               : [b'n' b'y' b'y' b'y' b'n']\nnumeric             : [[25.     1.     0.     7.925]\n [25.     0.     0.    13.   ]\n [19.     0.     0.    26.   ]\n [45.     0.     0.    26.55 ]\n [28.     1.     0.    15.5  ]]\n"
    }
   ],
   "source": [
    "show_batch(packed_train_data)"
   ]
  },
  {
   "cell_type": "code",
   "execution_count": 20,
   "metadata": {},
   "outputs": [],
   "source": [
    "example_batch, labels_batch = next(iter(packed_train_data)) "
   ]
  },
  {
   "cell_type": "code",
   "execution_count": 21,
   "metadata": {},
   "outputs": [
    {
     "data": {
      "text/html": "<div>\n<style scoped>\n    .dataframe tbody tr th:only-of-type {\n        vertical-align: middle;\n    }\n\n    .dataframe tbody tr th {\n        vertical-align: top;\n    }\n\n    .dataframe thead th {\n        text-align: right;\n    }\n</style>\n<table border=\"1\" class=\"dataframe\">\n  <thead>\n    <tr style=\"text-align: right;\">\n      <th></th>\n      <th>age</th>\n      <th>n_siblings_spouses</th>\n      <th>parch</th>\n      <th>fare</th>\n    </tr>\n  </thead>\n  <tbody>\n    <tr>\n      <th>count</th>\n      <td>627.000000</td>\n      <td>627.000000</td>\n      <td>627.000000</td>\n      <td>627.000000</td>\n    </tr>\n    <tr>\n      <th>mean</th>\n      <td>29.631308</td>\n      <td>0.545455</td>\n      <td>0.379585</td>\n      <td>34.385399</td>\n    </tr>\n    <tr>\n      <th>std</th>\n      <td>12.511818</td>\n      <td>1.151090</td>\n      <td>0.792999</td>\n      <td>54.597730</td>\n    </tr>\n    <tr>\n      <th>min</th>\n      <td>0.750000</td>\n      <td>0.000000</td>\n      <td>0.000000</td>\n      <td>0.000000</td>\n    </tr>\n    <tr>\n      <th>25%</th>\n      <td>23.000000</td>\n      <td>0.000000</td>\n      <td>0.000000</td>\n      <td>7.895800</td>\n    </tr>\n    <tr>\n      <th>50%</th>\n      <td>28.000000</td>\n      <td>0.000000</td>\n      <td>0.000000</td>\n      <td>15.045800</td>\n    </tr>\n    <tr>\n      <th>75%</th>\n      <td>35.000000</td>\n      <td>1.000000</td>\n      <td>0.000000</td>\n      <td>31.387500</td>\n    </tr>\n    <tr>\n      <th>max</th>\n      <td>80.000000</td>\n      <td>8.000000</td>\n      <td>5.000000</td>\n      <td>512.329200</td>\n    </tr>\n  </tbody>\n</table>\n</div>",
      "text/plain": "              age  n_siblings_spouses       parch        fare\ncount  627.000000          627.000000  627.000000  627.000000\nmean    29.631308            0.545455    0.379585   34.385399\nstd     12.511818            1.151090    0.792999   54.597730\nmin      0.750000            0.000000    0.000000    0.000000\n25%     23.000000            0.000000    0.000000    7.895800\n50%     28.000000            0.000000    0.000000   15.045800\n75%     35.000000            1.000000    0.000000   31.387500\nmax     80.000000            8.000000    5.000000  512.329200"
     },
     "execution_count": 21,
     "metadata": {},
     "output_type": "execute_result"
    }
   ],
   "source": [
    "import pandas as pd\n",
    "desc = pd.read_csv(train_file_path)[NUMERIC_FEATURES].describe()\n",
    "desc"
   ]
  },
  {
   "cell_type": "code",
   "execution_count": 22,
   "metadata": {},
   "outputs": [],
   "source": [
    "MEAN = np.array(desc.T['mean'])\n",
    "STD = np.array(desc.T['std'])"
   ]
  },
  {
   "cell_type": "code",
   "execution_count": 23,
   "metadata": {},
   "outputs": [],
   "source": [
    "def normalize_numeric_data(data, mean, std):\n",
    "  # Center the data\n",
    "  return (data-mean)/std"
   ]
  },
  {
   "cell_type": "code",
   "execution_count": 24,
   "metadata": {},
   "outputs": [
    {
     "data": {
      "text/plain": "NumericColumn(key='numeric', shape=(4,), default_value=None, dtype=tf.float32, normalizer_fn=functools.partial(<function normalize_numeric_data at 0x7fb8980f6048>, mean=array([29.631,  0.545,  0.38 , 34.385]), std=array([12.512,  1.151,  0.793, 54.598])))"
     },
     "execution_count": 24,
     "metadata": {},
     "output_type": "execute_result"
    }
   ],
   "source": [
    "# See what you just created.\n",
    "normalizer = functools.partial(normalize_numeric_data, mean=MEAN, std=STD)\n",
    "\n",
    "numeric_column = tf.feature_column.numeric_column('numeric', normalizer_fn=normalizer, shape=[len(NUMERIC_FEATURES)])\n",
    "numeric_columns = [numeric_column]\n",
    "numeric_column"
   ]
  },
  {
   "cell_type": "code",
   "execution_count": 25,
   "metadata": {},
   "outputs": [
    {
     "data": {
      "text/plain": "<tf.Tensor: shape=(5, 4), dtype=float32, numpy=\narray([[25.   ,  1.   ,  0.   ,  7.925],\n       [18.   ,  1.   ,  0.   , 17.8  ],\n       [28.   ,  0.   ,  0.   ,  7.729],\n       [28.   ,  0.   ,  0.   ,  7.05 ],\n       [31.   ,  0.   ,  0.   , 13.   ]], dtype=float32)>"
     },
     "execution_count": 25,
     "metadata": {},
     "output_type": "execute_result"
    }
   ],
   "source": [
    "example_batch['numeric']"
   ]
  },
  {
   "cell_type": "code",
   "execution_count": 26,
   "metadata": {},
   "outputs": [
    {
     "data": {
      "text/plain": "array([[-0.37 ,  0.395, -0.479, -0.485],\n       [-0.93 ,  0.395, -0.479, -0.304],\n       [-0.13 , -0.474, -0.479, -0.488],\n       [-0.13 , -0.474, -0.479, -0.501],\n       [ 0.109, -0.474, -0.479, -0.392]], dtype=float32)"
     },
     "execution_count": 26,
     "metadata": {},
     "output_type": "execute_result"
    }
   ],
   "source": [
    "numeric_layer = tf.keras.layers.DenseFeatures(numeric_columns)\n",
    "numeric_layer(example_batch).numpy()"
   ]
  },
  {
   "cell_type": "code",
   "execution_count": 27,
   "metadata": {},
   "outputs": [],
   "source": [
    "CATEGORIES = {\n",
    "    'sex': ['male', 'female'],\n",
    "    'class' : ['First', 'Second', 'Third'],\n",
    "    'deck' : ['A', 'B', 'C', 'D', 'E', 'F', 'G', 'H', 'I', 'J'],\n",
    "    'embark_town' : ['Cherbourg', 'Southhampton', 'Queenstown'],\n",
    "    'alone' : ['y', 'n']\n",
    "}"
   ]
  },
  {
   "cell_type": "code",
   "execution_count": 28,
   "metadata": {},
   "outputs": [],
   "source": [
    "categorical_columns = []\n",
    "for feature, vocab in CATEGORIES.items():\n",
    "  cat_col = tf.feature_column.categorical_column_with_vocabulary_list(\n",
    "        key=feature, vocabulary_list=vocab)\n",
    "  categorical_columns.append(tf.feature_column.indicator_column(cat_col))"
   ]
  },
  {
   "cell_type": "code",
   "execution_count": 29,
   "metadata": {},
   "outputs": [
    {
     "data": {
      "text/plain": "[IndicatorColumn(categorical_column=VocabularyListCategoricalColumn(key='sex', vocabulary_list=('male', 'female'), dtype=tf.string, default_value=-1, num_oov_buckets=0)),\n IndicatorColumn(categorical_column=VocabularyListCategoricalColumn(key='class', vocabulary_list=('First', 'Second', 'Third'), dtype=tf.string, default_value=-1, num_oov_buckets=0)),\n IndicatorColumn(categorical_column=VocabularyListCategoricalColumn(key='deck', vocabulary_list=('A', 'B', 'C', 'D', 'E', 'F', 'G', 'H', 'I', 'J'), dtype=tf.string, default_value=-1, num_oov_buckets=0)),\n IndicatorColumn(categorical_column=VocabularyListCategoricalColumn(key='embark_town', vocabulary_list=('Cherbourg', 'Southhampton', 'Queenstown'), dtype=tf.string, default_value=-1, num_oov_buckets=0)),\n IndicatorColumn(categorical_column=VocabularyListCategoricalColumn(key='alone', vocabulary_list=('y', 'n'), dtype=tf.string, default_value=-1, num_oov_buckets=0))]"
     },
     "execution_count": 29,
     "metadata": {},
     "output_type": "execute_result"
    }
   ],
   "source": [
    "# See what you just created.\n",
    "categorical_columns"
   ]
  },
  {
   "cell_type": "code",
   "execution_count": 30,
   "metadata": {},
   "outputs": [
    {
     "name": "stdout",
     "output_type": "stream",
     "text": "[0. 1. 0. 0. 1. 0. 0. 0. 0. 0. 0. 0. 0. 0. 0. 0. 0. 0. 0. 1.]\n"
    }
   ],
   "source": [
    "categorical_layer = tf.keras.layers.DenseFeatures(categorical_columns)\n",
    "print(categorical_layer(example_batch).numpy()[0])"
   ]
  },
  {
   "cell_type": "code",
   "execution_count": 31,
   "metadata": {},
   "outputs": [],
   "source": [
    "preprocessing_layer = tf.keras.layers.DenseFeatures(categorical_columns+numeric_columns)"
   ]
  },
  {
   "cell_type": "code",
   "execution_count": 32,
   "metadata": {},
   "outputs": [
    {
     "name": "stdout",
     "output_type": "stream",
     "text": "[ 0.     1.     0.     0.     1.     0.     0.     0.     0.     0.\n  0.     0.     0.     0.     0.     0.     0.     0.    -0.37   0.395\n -0.479 -0.485  0.     1.   ]\n"
    }
   ],
   "source": [
    "print(preprocessing_layer(example_batch).numpy()[0])"
   ]
  },
  {
   "cell_type": "code",
   "execution_count": 33,
   "metadata": {},
   "outputs": [],
   "source": [
    "model = tf.keras.Sequential([\n",
    "  preprocessing_layer,\n",
    "  tf.keras.layers.Dense(128, activation='relu'),\n",
    "  tf.keras.layers.Dense(128, activation='relu'),\n",
    "  tf.keras.layers.Dense(1, activation='sigmoid'),\n",
    "])\n",
    "\n",
    "model.compile(\n",
    "    loss='binary_crossentropy',\n",
    "    optimizer='adam',\n",
    "    metrics=['accuracy'])"
   ]
  },
  {
   "cell_type": "code",
   "execution_count": 34,
   "metadata": {},
   "outputs": [],
   "source": [
    "train_data = packed_train_data.shuffle(500)\n",
    "test_data = packed_test_data"
   ]
  },
  {
   "cell_type": "code",
   "execution_count": 35,
   "metadata": {},
   "outputs": [
    {
     "name": "stdout",
     "output_type": "stream",
     "text": "Epoch 1/20\n126/126 [==============================] - 1s 10ms/step - loss: 0.5039 - accuracy: 0.7911\nEpoch 2/20\n126/126 [==============================] - 0s 3ms/step - loss: 0.4167 - accuracy: 0.8182\nEpoch 3/20\n126/126 [==============================] - 0s 3ms/step - loss: 0.4059 - accuracy: 0.8214\nEpoch 4/20\n126/126 [==============================] - 0s 3ms/step - loss: 0.3888 - accuracy: 0.8262\nEpoch 5/20\n126/126 [==============================] - 0s 3ms/step - loss: 0.3810 - accuracy: 0.8309\nEpoch 6/20\n126/126 [==============================] - 0s 3ms/step - loss: 0.3772 - accuracy: 0.8341\nEpoch 7/20\n126/126 [==============================] - 0s 3ms/step - loss: 0.3635 - accuracy: 0.8421\nEpoch 8/20\n126/126 [==============================] - 0s 3ms/step - loss: 0.3639 - accuracy: 0.8373\nEpoch 9/20\n126/126 [==============================] - 0s 3ms/step - loss: 0.3513 - accuracy: 0.8533\nEpoch 10/20\n126/126 [==============================] - 0s 3ms/step - loss: 0.3495 - accuracy: 0.8565\nEpoch 11/20\n126/126 [==============================] - 0s 3ms/step - loss: 0.3459 - accuracy: 0.8485\nEpoch 12/20\n126/126 [==============================] - 0s 3ms/step - loss: 0.3372 - accuracy: 0.8581\nEpoch 13/20\n126/126 [==============================] - 0s 3ms/step - loss: 0.3393 - accuracy: 0.8549\nEpoch 14/20\n126/126 [==============================] - 0s 3ms/step - loss: 0.3289 - accuracy: 0.8676\nEpoch 15/20\n126/126 [==============================] - 0s 3ms/step - loss: 0.3204 - accuracy: 0.8660\nEpoch 16/20\n126/126 [==============================] - 0s 3ms/step - loss: 0.3135 - accuracy: 0.8740\nEpoch 17/20\n126/126 [==============================] - 0s 3ms/step - loss: 0.3122 - accuracy: 0.8660\nEpoch 18/20\n126/126 [==============================] - 0s 3ms/step - loss: 0.3116 - accuracy: 0.8612\nEpoch 19/20\n126/126 [==============================] - 0s 3ms/step - loss: 0.3162 - accuracy: 0.8692\nEpoch 20/20\n126/126 [==============================] - 0s 3ms/step - loss: 0.3071 - accuracy: 0.8628\n"
    },
    {
     "data": {
      "text/plain": "<tensorflow.python.keras.callbacks.History at 0x7fb808175a20>"
     },
     "execution_count": 35,
     "metadata": {},
     "output_type": "execute_result"
    }
   ],
   "source": [
    "model.fit(train_data, epochs=20)"
   ]
  },
  {
   "cell_type": "code",
   "execution_count": 36,
   "metadata": {},
   "outputs": [
    {
     "name": "stdout",
     "output_type": "stream",
     "text": "53/Unknown - 0s 8ms/step - loss: 0.4387 - accuracy: 0.8371\n\nTest Loss 0.43871724043252336, Test Accuracy 0.8371211886405945\n"
    }
   ],
   "source": [
    "test_loss, test_accuracy = model.evaluate(test_data)\n",
    "\n",
    "print('\\n\\nTest Loss {}, Test Accuracy {}'.format(test_loss, test_accuracy))"
   ]
  },
  {
   "cell_type": "code",
   "execution_count": 37,
   "metadata": {},
   "outputs": [
    {
     "name": "stdout",
     "output_type": "stream",
     "text": "Predicted survival: 53.02%  | Actual outcome:  SURVIVED\nPredicted survival: 22.04%  | Actual outcome:  SURVIVED\nPredicted survival: 77.68%  | Actual outcome:  DIED\nPredicted survival: 15.18%  | Actual outcome:  SURVIVED\nPredicted survival: 22.73%  | Actual outcome:  DIED\n"
    }
   ],
   "source": [
    "predictions = model.predict(test_data)\n",
    "\n",
    "# Show some results\n",
    "for prediction, survived in zip(predictions[:10], list(test_data)[0][1][:10]):\n",
    "  print(\"Predicted survival: {:.2%}\".format(prediction[0]),\n",
    "        \" | Actual outcome: \",\n",
    "        (\"SURVIVED\" if bool(survived) else \"DIED\"))"
   ]
  }
 ],
 "metadata": {
  "kernelspec": {
   "display_name": "Python 3",
   "language": "python",
   "name": "python3"
  },
  "language_info": {
   "codemirror_mode": {
    "name": "ipython",
    "version": 3
   },
   "file_extension": ".py",
   "mimetype": "text/x-python",
   "name": "python",
   "nbconvert_exporter": "python",
   "pygments_lexer": "ipython3",
   "version": "3.6.9-final"
  }
 },
 "nbformat": 4,
 "nbformat_minor": 4
}